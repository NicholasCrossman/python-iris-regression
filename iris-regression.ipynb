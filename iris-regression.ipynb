{
 "cells": [
  {
   "cell_type": "markdown",
   "metadata": {},
   "source": [
    "# JUMPlus Python Project 3\n",
    "\n",
    "## Linear Regression with the Iris Dataset\n",
    "\n",
    "### by Nicholas Crossman\n",
    "\n",
    "This time, we've been given the `Iris` dataset, which contains a lot of data on iris flowers. \n",
    "We'll use it to practice using linear regression to get more information from a dataset.\n",
    "\n",
    "First, we need to import a few libraries."
   ]
  },
  {
   "cell_type": "code",
   "execution_count": 2,
   "metadata": {},
   "outputs": [],
   "source": [
    "import pandas as pd\n",
    "import matplotlib as plt\n",
    "import seaborn as sb\n",
    "import sklearn"
   ]
  },
  {
   "cell_type": "markdown",
   "metadata": {},
   "source": [
    "Next, we read in the dataset into a DataFrame."
   ]
  },
  {
   "cell_type": "code",
   "execution_count": 3,
   "metadata": {},
   "outputs": [],
   "source": [
    "data = pd.read_csv(\"Iris.csv\")"
   ]
  },
  {
   "cell_type": "markdown",
   "metadata": {},
   "source": [
    "As before, let's show the first 5 entries to see what we're dealing with."
   ]
  },
  {
   "cell_type": "code",
   "execution_count": 4,
   "metadata": {},
   "outputs": [
    {
     "data": {
      "text/html": [
       "<style  type=\"text/css\" >\n",
       "</style>  \n",
       "<table id=\"T_3e9d9eec_6f23_11ec_960a_4ccc6a2498d4\" > \n",
       "<thead>    <tr> \n",
       "        <th class=\"blank level0\" ></th> \n",
       "        <th class=\"col_heading level0 col0\" >Id</th> \n",
       "        <th class=\"col_heading level0 col1\" >SepalLengthCm</th> \n",
       "        <th class=\"col_heading level0 col2\" >SepalWidthCm</th> \n",
       "        <th class=\"col_heading level0 col3\" >PetalLengthCm</th> \n",
       "        <th class=\"col_heading level0 col4\" >PetalWidthCm</th> \n",
       "        <th class=\"col_heading level0 col5\" >Species</th> \n",
       "    </tr></thead> \n",
       "<tbody>    <tr> \n",
       "        <th id=\"T_3e9d9eec_6f23_11ec_960a_4ccc6a2498d4level0_row0\" class=\"row_heading level0 row0\" >0</th> \n",
       "        <td id=\"T_3e9d9eec_6f23_11ec_960a_4ccc6a2498d4row0_col0\" class=\"data row0 col0\" >1</td> \n",
       "        <td id=\"T_3e9d9eec_6f23_11ec_960a_4ccc6a2498d4row0_col1\" class=\"data row0 col1\" >5.1</td> \n",
       "        <td id=\"T_3e9d9eec_6f23_11ec_960a_4ccc6a2498d4row0_col2\" class=\"data row0 col2\" >3.5</td> \n",
       "        <td id=\"T_3e9d9eec_6f23_11ec_960a_4ccc6a2498d4row0_col3\" class=\"data row0 col3\" >1.4</td> \n",
       "        <td id=\"T_3e9d9eec_6f23_11ec_960a_4ccc6a2498d4row0_col4\" class=\"data row0 col4\" >0.2</td> \n",
       "        <td id=\"T_3e9d9eec_6f23_11ec_960a_4ccc6a2498d4row0_col5\" class=\"data row0 col5\" >Iris-setosa</td> \n",
       "    </tr>    <tr> \n",
       "        <th id=\"T_3e9d9eec_6f23_11ec_960a_4ccc6a2498d4level0_row1\" class=\"row_heading level0 row1\" >1</th> \n",
       "        <td id=\"T_3e9d9eec_6f23_11ec_960a_4ccc6a2498d4row1_col0\" class=\"data row1 col0\" >2</td> \n",
       "        <td id=\"T_3e9d9eec_6f23_11ec_960a_4ccc6a2498d4row1_col1\" class=\"data row1 col1\" >4.9</td> \n",
       "        <td id=\"T_3e9d9eec_6f23_11ec_960a_4ccc6a2498d4row1_col2\" class=\"data row1 col2\" >3</td> \n",
       "        <td id=\"T_3e9d9eec_6f23_11ec_960a_4ccc6a2498d4row1_col3\" class=\"data row1 col3\" >1.4</td> \n",
       "        <td id=\"T_3e9d9eec_6f23_11ec_960a_4ccc6a2498d4row1_col4\" class=\"data row1 col4\" >0.2</td> \n",
       "        <td id=\"T_3e9d9eec_6f23_11ec_960a_4ccc6a2498d4row1_col5\" class=\"data row1 col5\" >Iris-setosa</td> \n",
       "    </tr>    <tr> \n",
       "        <th id=\"T_3e9d9eec_6f23_11ec_960a_4ccc6a2498d4level0_row2\" class=\"row_heading level0 row2\" >2</th> \n",
       "        <td id=\"T_3e9d9eec_6f23_11ec_960a_4ccc6a2498d4row2_col0\" class=\"data row2 col0\" >3</td> \n",
       "        <td id=\"T_3e9d9eec_6f23_11ec_960a_4ccc6a2498d4row2_col1\" class=\"data row2 col1\" >4.7</td> \n",
       "        <td id=\"T_3e9d9eec_6f23_11ec_960a_4ccc6a2498d4row2_col2\" class=\"data row2 col2\" >3.2</td> \n",
       "        <td id=\"T_3e9d9eec_6f23_11ec_960a_4ccc6a2498d4row2_col3\" class=\"data row2 col3\" >1.3</td> \n",
       "        <td id=\"T_3e9d9eec_6f23_11ec_960a_4ccc6a2498d4row2_col4\" class=\"data row2 col4\" >0.2</td> \n",
       "        <td id=\"T_3e9d9eec_6f23_11ec_960a_4ccc6a2498d4row2_col5\" class=\"data row2 col5\" >Iris-setosa</td> \n",
       "    </tr>    <tr> \n",
       "        <th id=\"T_3e9d9eec_6f23_11ec_960a_4ccc6a2498d4level0_row3\" class=\"row_heading level0 row3\" >3</th> \n",
       "        <td id=\"T_3e9d9eec_6f23_11ec_960a_4ccc6a2498d4row3_col0\" class=\"data row3 col0\" >4</td> \n",
       "        <td id=\"T_3e9d9eec_6f23_11ec_960a_4ccc6a2498d4row3_col1\" class=\"data row3 col1\" >4.6</td> \n",
       "        <td id=\"T_3e9d9eec_6f23_11ec_960a_4ccc6a2498d4row3_col2\" class=\"data row3 col2\" >3.1</td> \n",
       "        <td id=\"T_3e9d9eec_6f23_11ec_960a_4ccc6a2498d4row3_col3\" class=\"data row3 col3\" >1.5</td> \n",
       "        <td id=\"T_3e9d9eec_6f23_11ec_960a_4ccc6a2498d4row3_col4\" class=\"data row3 col4\" >0.2</td> \n",
       "        <td id=\"T_3e9d9eec_6f23_11ec_960a_4ccc6a2498d4row3_col5\" class=\"data row3 col5\" >Iris-setosa</td> \n",
       "    </tr>    <tr> \n",
       "        <th id=\"T_3e9d9eec_6f23_11ec_960a_4ccc6a2498d4level0_row4\" class=\"row_heading level0 row4\" >4</th> \n",
       "        <td id=\"T_3e9d9eec_6f23_11ec_960a_4ccc6a2498d4row4_col0\" class=\"data row4 col0\" >5</td> \n",
       "        <td id=\"T_3e9d9eec_6f23_11ec_960a_4ccc6a2498d4row4_col1\" class=\"data row4 col1\" >5</td> \n",
       "        <td id=\"T_3e9d9eec_6f23_11ec_960a_4ccc6a2498d4row4_col2\" class=\"data row4 col2\" >3.6</td> \n",
       "        <td id=\"T_3e9d9eec_6f23_11ec_960a_4ccc6a2498d4row4_col3\" class=\"data row4 col3\" >1.4</td> \n",
       "        <td id=\"T_3e9d9eec_6f23_11ec_960a_4ccc6a2498d4row4_col4\" class=\"data row4 col4\" >0.2</td> \n",
       "        <td id=\"T_3e9d9eec_6f23_11ec_960a_4ccc6a2498d4row4_col5\" class=\"data row4 col5\" >Iris-setosa</td> \n",
       "    </tr></tbody> \n",
       "</table> "
      ],
      "text/plain": [
       "<pandas.io.formats.style.Styler at 0x1de3fdefc18>"
      ]
     },
     "execution_count": 4,
     "metadata": {},
     "output_type": "execute_result"
    }
   ],
   "source": [
    "data.head().style"
   ]
  }
 ],
 "metadata": {
  "interpreter": {
   "hash": "63fd5069d213b44bf678585dea6b12cceca9941eaf7f819626cde1f2670de90d"
  },
  "kernelspec": {
   "display_name": "Python 3.9.1 64-bit",
   "language": "python",
   "name": "python3"
  },
  "language_info": {
   "codemirror_mode": {
    "name": "ipython",
    "version": 3
   },
   "file_extension": ".py",
   "mimetype": "text/x-python",
   "name": "python",
   "nbconvert_exporter": "python",
   "pygments_lexer": "ipython3",
   "version": "3.7.0"
  },
  "orig_nbformat": 4
 },
 "nbformat": 4,
 "nbformat_minor": 2
}
